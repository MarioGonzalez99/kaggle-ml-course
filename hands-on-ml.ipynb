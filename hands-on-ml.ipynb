{
 "cells": [
  {
   "cell_type": "markdown",
   "id": "bf73905b",
   "metadata": {
    "execution": {
     "iopub.execute_input": "2022-05-12T04:44:26.815503Z",
     "iopub.status.busy": "2022-05-12T04:44:26.81522Z",
     "iopub.status.idle": "2022-05-12T04:44:26.819316Z",
     "shell.execute_reply": "2022-05-12T04:44:26.818501Z",
     "shell.execute_reply.started": "2022-05-12T04:44:26.815476Z"
    },
    "papermill": {
     "duration": 0.005566,
     "end_time": "2022-05-12T04:53:40.558237",
     "exception": false,
     "start_time": "2022-05-12T04:53:40.552671",
     "status": "completed"
    },
    "tags": []
   },
   "source": [
    "# Hands-on ML with Scikit-Learn, Keras, and TensorFlow\n",
    "## Introduction\n",
    "This is a notebook to put in practice the knowledge from the book Hands-On Machine Learning with Scikit-Learn, Keras, and TensorFlow"
   ]
  },
  {
   "cell_type": "markdown",
   "id": "a0b535df",
   "metadata": {
    "papermill": {
     "duration": 0.003873,
     "end_time": "2022-05-12T04:53:40.566559",
     "exception": false,
     "start_time": "2022-05-12T04:53:40.562686",
     "status": "completed"
    },
    "tags": []
   },
   "source": [
    "## Basic Setup"
   ]
  },
  {
   "cell_type": "code",
   "execution_count": 1,
   "id": "7eeb564a",
   "metadata": {
    "execution": {
     "iopub.execute_input": "2022-05-12T04:53:40.576582Z",
     "iopub.status.busy": "2022-05-12T04:53:40.576062Z",
     "iopub.status.idle": "2022-05-12T04:53:40.591193Z",
     "shell.execute_reply": "2022-05-12T04:53:40.590557Z"
    },
    "papermill": {
     "duration": 0.022544,
     "end_time": "2022-05-12T04:53:40.593269",
     "exception": false,
     "start_time": "2022-05-12T04:53:40.570725",
     "status": "completed"
    },
    "tags": []
   },
   "outputs": [],
   "source": [
    "# Helps autocompletion feature\n",
    "%config Completer.use_jedi = False"
   ]
  },
  {
   "cell_type": "code",
   "execution_count": 2,
   "id": "47b7c191",
   "metadata": {
    "_cell_guid": "b1076dfc-b9ad-4769-8c92-a6c4dae69d19",
    "_uuid": "8f2839f25d086af736a60e9eeb907d3b93b6e0e5",
    "execution": {
     "iopub.execute_input": "2022-05-12T04:53:40.603536Z",
     "iopub.status.busy": "2022-05-12T04:53:40.603060Z",
     "iopub.status.idle": "2022-05-12T04:53:40.607253Z",
     "shell.execute_reply": "2022-05-12T04:53:40.606738Z"
    },
    "papermill": {
     "duration": 0.01123,
     "end_time": "2022-05-12T04:53:40.608900",
     "exception": false,
     "start_time": "2022-05-12T04:53:40.597670",
     "status": "completed"
    },
    "tags": []
   },
   "outputs": [],
   "source": [
    "# Input data files are available in the read-only \"../input/\" directory\n",
    "# For example, running this (by clicking run or pressing Shift+Enter) will list all files under the input directory\n",
    "\n",
    "import os\n",
    "for dirname, _, filenames in os.walk('/kaggle/input'):\n",
    "    for filename in filenames:\n",
    "        print(os.path.join(dirname, filename))\n",
    "\n",
    "# You can write up to 20GB to the current directory (/kaggle/working/) that gets preserved as output when you create a version using \"Save & Run All\" \n",
    "# You can also write temporary files to /kaggle/temp/, but they won't be saved outside of the current session"
   ]
  },
  {
   "cell_type": "code",
   "execution_count": 3,
   "id": "5f8de25f",
   "metadata": {
    "execution": {
     "iopub.execute_input": "2022-05-12T04:53:40.618826Z",
     "iopub.status.busy": "2022-05-12T04:53:40.618414Z",
     "iopub.status.idle": "2022-05-12T04:53:40.621941Z",
     "shell.execute_reply": "2022-05-12T04:53:40.621285Z"
    },
    "papermill": {
     "duration": 0.010309,
     "end_time": "2022-05-12T04:53:40.623529",
     "exception": false,
     "start_time": "2022-05-12T04:53:40.613220",
     "status": "completed"
    },
    "tags": []
   },
   "outputs": [],
   "source": [
    "# This Python 3 environment comes with many helpful analytics libraries installed\n",
    "# It is defined by the kaggle/python Docker image: https://github.com/kaggle/docker-python\n",
    "# For example, here's several helpful packages to load\n",
    "\n",
    "import numpy as np # linear algebra\n",
    "import pandas as pd # data processing, CSV file I/O (e.g. pd.read_csv)"
   ]
  }
 ],
 "metadata": {
  "kernelspec": {
   "display_name": "Python 3",
   "language": "python",
   "name": "python3"
  },
  "language_info": {
   "codemirror_mode": {
    "name": "ipython",
    "version": 3
   },
   "file_extension": ".py",
   "mimetype": "text/x-python",
   "name": "python",
   "nbconvert_exporter": "python",
   "pygments_lexer": "ipython3",
   "version": "3.7.12"
  },
  "papermill": {
   "default_parameters": {},
   "duration": 9.815517,
   "end_time": "2022-05-12T04:53:41.247412",
   "environment_variables": {},
   "exception": null,
   "input_path": "__notebook__.ipynb",
   "output_path": "__notebook__.ipynb",
   "parameters": {},
   "start_time": "2022-05-12T04:53:31.431895",
   "version": "2.3.4"
  }
 },
 "nbformat": 4,
 "nbformat_minor": 5
}
